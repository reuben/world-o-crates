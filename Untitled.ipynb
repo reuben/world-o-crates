{
 "cells": [
  {
   "cell_type": "code",
   "execution_count": 15,
   "id": "25acf1bf",
   "metadata": {},
   "outputs": [],
   "source": [
    ":dep petgraph = { version = \"0.6.0\" }\n",
    ":dep petgraph-evcxr = { version = \"0.2.0\" }\n",
    ":dep crates-index = {version = \"0.18.1\" }"
   ]
  },
  {
   "cell_type": "code",
   "execution_count": 28,
   "id": "9e9eb54f",
   "metadata": {},
   "outputs": [
    {
     "ename": "Error",
     "evalue": "the method `insert` exists for struct `HashMap<Crate, NodeIndex>`, but its trait bounds were not satisfied",
     "output_type": "error",
     "traceback": [
      "crate_to_idx.insert(first, a);",
      "\u001b[91m             ^^^^^^\u001b[0m \u001b[94mmethod cannot be called on `HashMap<Crate, NodeIndex>` due to unsatisfied trait bounds\u001b[0m",
      "the method `insert` exists for struct `HashMap<Crate, NodeIndex>`, but its trait bounds were not satisfied"
     ]
    },
    {
     "ename": "Error",
     "evalue": "the method `insert` exists for struct `HashMap<Crate, NodeIndex>`, but its trait bounds were not satisfied",
     "output_type": "error",
     "traceback": [
      "    crate_to_idx.insert(crate_, graph_idx);",
      "\u001b[91m                 ^^^^^^\u001b[0m \u001b[94mmethod cannot be called on `HashMap<Crate, NodeIndex>` due to unsatisfied trait bounds\u001b[0m",
      "the method `insert` exists for struct `HashMap<Crate, NodeIndex>`, but its trait bounds were not satisfied"
     ]
    },
    {
     "ename": "Error",
     "evalue": "mismatched types",
     "output_type": "error",
     "traceback": [
      "for (crate_, idx) in crate_to_idx.keys() {",
      "\u001b[91m    ^^^^^^^^^^^^^\u001b[0m \u001b[94mexpected struct `Crate`, found tuple\u001b[0m",
      "for (crate_, idx) in crate_to_idx.keys() {",
      "\u001b[91m                     ^^^^^^^^^^^^^^^^^^^\u001b[0m \u001b[94mthis expression has type `&Crate`\u001b[0m",
      "mismatched types"
     ]
    },
    {
     "ename": "Error",
     "evalue": "the method `get` exists for struct `HashMap<Crate, NodeIndex>`, but its trait bounds were not satisfied",
     "output_type": "error",
     "traceback": [
      "        g.add_edge(idx, crate_to_idx.get(dep.crate_name()), dep.kind());",
      "\u001b[91m                                     ^^^\u001b[0m \u001b[94mmethod cannot be called on `HashMap<Crate, NodeIndex>` due to unsatisfied trait bounds\u001b[0m",
      "the method `get` exists for struct `HashMap<Crate, NodeIndex>`, but its trait bounds were not satisfied"
     ]
    }
   ],
   "source": [
    "use petgraph::graph::{DiGraph};\n",
    "use petgraph::visit::GraphBase;\n",
    "use petgraph_evcxr::draw_graph;\n",
    "use crates_index::{Crate, DependencyKind};\n",
    "use std::collections::HashMap;\n",
    "\n",
    "type MyGraph = DiGraph::<Crate, DependencyKind>;\n",
    "\n",
    "let g = MyGraph::new();\n",
    "\n",
    "let index = crates_index::Index::new_cargo_default().unwrap();\n",
    "let first = index.crates().nth(0).expect(\"empty index\");\n",
    "let a = g.add_node(first);\n",
    "let mut crate_to_idx: HashMap<Crate, <MyGraph as GraphBase>::NodeId>;\n",
    "let mut name_to_idx: HashMap<&str, <MyGraph as GraphBase>::NodeId>;\n",
    "crate_to_idx.insert(first, a);\n",
    "for crate_ in index.crates() {\n",
    "    let graph_idx = g.add_node(crate_);\n",
    "    crate_to_idx.insert(crate_, graph_idx);\n",
    "}\n",
    "\n",
    "for (crate_, idx) in crate_to_idx.keys() {\n",
    "    for dep in crate_.highest_version().dependencies() {\n",
    "        g.add_edge(idx, crate_to_idx.get(dep.crate_name()), dep.kind());\n",
    "    }\n",
    "   let latest_version = crate_.latest_version();\n",
    "   println!(\"crate name: {}\", latest_version.name());\n",
    "   println!(\"crate version: {}\", latest_version.version());\n",
    "}\n",
    "\n",
    "\n"
   ]
  },
  {
   "cell_type": "code",
   "execution_count": 12,
   "id": "17b8f718",
   "metadata": {},
   "outputs": [
    {
     "data": {
      "image/png": "[encoded data removed]"
     },
     "execution_count": 12,
     "metadata": {},
     "output_type": "execute_result"
    }
   ],
   "source": [
    "draw_graph(&g);"
   ]
  },
  {
   "cell_type": "code",
   "execution_count": null,
   "id": "8d5ae614",
   "metadata": {},
   "outputs": [],
   "source": []
  }
 ],
 "metadata": {
  "kernelspec": {
   "display_name": "Rust",
   "language": "rust",
   "name": "rust"
  },
  "language_info": {
   "codemirror_mode": "rust",
   "file_extension": ".rs",
   "mimetype": "text/rust",
   "name": "Rust",
   "pygment_lexer": "rust",
   "version": ""
  }
 },
 "nbformat": 4,
 "nbformat_minor": 5
}
